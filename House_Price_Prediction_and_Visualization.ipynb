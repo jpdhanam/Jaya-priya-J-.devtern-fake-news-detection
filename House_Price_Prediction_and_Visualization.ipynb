{
  "metadata": {
    "kernelspec": {
      "name": "python3",
      "display_name": "Python 3",
      "language": "python"
    },
    "language_info": {
      "name": "python",
      "version": "3.10.12",
      "mimetype": "text/x-python",
      "codemirror_mode": {
        "name": "ipython",
        "version": 3
      },
      "pygments_lexer": "ipython3",
      "nbconvert_exporter": "python",
      "file_extension": ".py"
    },
    "kaggle": {
      "accelerator": "none",
      "dataSources": [
        {
          "sourceId": 7459,
          "sourceType": "datasetVersion",
          "datasetId": 4909
        }
      ],
      "dockerImageVersionId": 30626,
      "isInternetEnabled": true,
      "language": "python",
      "sourceType": "notebook",
      "isGpuEnabled": false
    },
    "colab": {
      "name": "House Price Prediction and Visualization",
      "provenance": [],
      "include_colab_link": true
    }
  },
  "nbformat_minor": 0,
  "nbformat": 4,
  "cells": [
    {
      "cell_type": "markdown",
      "metadata": {
        "id": "view-in-github",
        "colab_type": "text"
      },
      "source": [
        "<a href=\"https://colab.research.google.com/github/jpdhanam/Jaya-priya-J-.devtern-fake-news-detection/blob/main/House_Price_Prediction_and_Visualization.ipynb\" target=\"_parent\"><img src=\"https://colab.research.google.com/assets/colab-badge.svg\" alt=\"Open In Colab\"/></a>"
      ]
    },
    {
      "source": [
        "\n",
        "# IMPORTANT: RUN THIS CELL IN ORDER TO IMPORT YOUR KAGGLE DATA SOURCES\n",
        "# TO THE CORRECT LOCATION (/kaggle/input) IN YOUR NOTEBOOK,\n",
        "# THEN FEEL FREE TO DELETE THIS CELL.\n",
        "# NOTE: THIS NOTEBOOK ENVIRONMENT DIFFERS FROM KAGGLE'S PYTHON\n",
        "# ENVIRONMENT SO THERE MAY BE MISSING LIBRARIES USED BY YOUR\n",
        "# NOTEBOOK.\n",
        "\n",
        "import os\n",
        "import sys\n",
        "from tempfile import NamedTemporaryFile\n",
        "from urllib.request import urlopen\n",
        "from urllib.parse import unquote, urlparse\n",
        "from urllib.error import HTTPError\n",
        "from zipfile import ZipFile\n",
        "import tarfile\n",
        "import shutil\n",
        "\n",
        "CHUNK_SIZE = 40960\n",
        "DATA_SOURCE_MAPPING = 'usa-housing:https%3A%2F%2Fstorage.googleapis.com%2Fkaggle-data-sets%2F4909%2F7459%2Fbundle%2Farchive.zip%3FX-Goog-Algorithm%3DGOOG4-RSA-SHA256%26X-Goog-Credential%3Dgcp-kaggle-com%2540kaggle-161607.iam.gserviceaccount.com%252F20240915%252Fauto%252Fstorage%252Fgoog4_request%26X-Goog-Date%3D20240915T155745Z%26X-Goog-Expires%3D259200%26X-Goog-SignedHeaders%3Dhost%26X-Goog-Signature%3D20ea966e6969da94582dc5141e0cedb3ba8175fb4dad7820d426b7cff1caed4f93b1d268f38632eb67dc97e64c284e196c456ed2d86620e2cff24603b961ddb6b09dfa982fa74a91a23f06b5924519fbfcc7f4a6a00cc2a7d57edb28220cc9922f7af1628fff1ea9d3d5273207afc5a0053667c4472c15e96fab1141098818a1ba012e506419cb13c9dec5676cb64b79fe9fa9508402fca34f6a2ae28817254263f0936399defc02d5377a05f1e0c4dc9a607f79b44e1531a80b3a92d02cf8921d494023d2b539f0ced0c6ba740b71d360eb59ffe133bd526221f9c5600e31029390a88252d3eb09db739fc16c282854a44c6f2022cb9542c2d3304abf36c4b2'\n",
        "\n",
        "KAGGLE_INPUT_PATH='/kaggle/input'\n",
        "KAGGLE_WORKING_PATH='/kaggle/working'\n",
        "KAGGLE_SYMLINK='kaggle'\n",
        "\n",
        "!umount /kaggle/input/ 2> /dev/null\n",
        "shutil.rmtree('/kaggle/input', ignore_errors=True)\n",
        "os.makedirs(KAGGLE_INPUT_PATH, 0o777, exist_ok=True)\n",
        "os.makedirs(KAGGLE_WORKING_PATH, 0o777, exist_ok=True)\n",
        "\n",
        "try:\n",
        "  os.symlink(KAGGLE_INPUT_PATH, os.path.join(\"..\", 'input'), target_is_directory=True)\n",
        "except FileExistsError:\n",
        "  pass\n",
        "try:\n",
        "  os.symlink(KAGGLE_WORKING_PATH, os.path.join(\"..\", 'working'), target_is_directory=True)\n",
        "except FileExistsError:\n",
        "  pass\n",
        "\n",
        "for data_source_mapping in DATA_SOURCE_MAPPING.split(','):\n",
        "    directory, download_url_encoded = data_source_mapping.split(':')\n",
        "    download_url = unquote(download_url_encoded)\n",
        "    filename = urlparse(download_url).path\n",
        "    destination_path = os.path.join(KAGGLE_INPUT_PATH, directory)\n",
        "    try:\n",
        "        with urlopen(download_url) as fileres, NamedTemporaryFile() as tfile:\n",
        "            total_length = fileres.headers['content-length']\n",
        "            print(f'Downloading {directory}, {total_length} bytes compressed')\n",
        "            dl = 0\n",
        "            data = fileres.read(CHUNK_SIZE)\n",
        "            while len(data) > 0:\n",
        "                dl += len(data)\n",
        "                tfile.write(data)\n",
        "                done = int(50 * dl / int(total_length))\n",
        "                sys.stdout.write(f\"\\r[{'=' * done}{' ' * (50-done)}] {dl} bytes downloaded\")\n",
        "                sys.stdout.flush()\n",
        "                data = fileres.read(CHUNK_SIZE)\n",
        "            if filename.endswith('.zip'):\n",
        "              with ZipFile(tfile) as zfile:\n",
        "                zfile.extractall(destination_path)\n",
        "            else:\n",
        "              with tarfile.open(tfile.name) as tarfile:\n",
        "                tarfile.extractall(destination_path)\n",
        "            print(f'\\nDownloaded and uncompressed: {directory}')\n",
        "    except HTTPError as e:\n",
        "        print(f'Failed to load (likely expired) {download_url} to path {destination_path}')\n",
        "        continue\n",
        "    except OSError as e:\n",
        "        print(f'Failed to load {download_url} to path {destination_path}')\n",
        "        continue\n",
        "\n",
        "print('Data source import complete.')\n"
      ],
      "metadata": {
        "id": "-RWcnPkDaqPj"
      },
      "cell_type": "code",
      "outputs": [],
      "execution_count": null
    },
    {
      "cell_type": "code",
      "source": [
        "import pandas as pd\n",
        "import numpy as np\n",
        "import seaborn as sns\n",
        "import matplotlib.pyplot as plt\n",
        "%matplotlib inline"
      ],
      "metadata": {
        "execution": {
          "iopub.status.busy": "2023-12-14T13:31:50.272158Z",
          "iopub.execute_input": "2023-12-14T13:31:50.272867Z",
          "iopub.status.idle": "2023-12-14T13:31:52.390652Z",
          "shell.execute_reply.started": "2023-12-14T13:31:50.272827Z",
          "shell.execute_reply": "2023-12-14T13:31:52.389351Z"
        },
        "trusted": true,
        "id": "Wr3iPxmcaqPk"
      },
      "execution_count": null,
      "outputs": []
    },
    {
      "cell_type": "code",
      "source": [
        "df=pd.read_csv('/kaggle/input/usa-housing/USA_Housing.csv')\n",
        "df"
      ],
      "metadata": {
        "execution": {
          "iopub.status.busy": "2023-12-14T13:31:52.392635Z",
          "iopub.execute_input": "2023-12-14T13:31:52.393129Z",
          "iopub.status.idle": "2023-12-14T13:31:52.484756Z",
          "shell.execute_reply.started": "2023-12-14T13:31:52.393099Z",
          "shell.execute_reply": "2023-12-14T13:31:52.483729Z"
        },
        "trusted": true,
        "id": "uSqjlBHbaqPl"
      },
      "execution_count": null,
      "outputs": []
    },
    {
      "cell_type": "code",
      "source": [
        "#Provide statistical information about the dataset\n",
        "df.describe()"
      ],
      "metadata": {
        "execution": {
          "iopub.status.busy": "2023-12-14T13:31:52.485875Z",
          "iopub.execute_input": "2023-12-14T13:31:52.48723Z",
          "iopub.status.idle": "2023-12-14T13:31:52.644739Z",
          "shell.execute_reply.started": "2023-12-14T13:31:52.487181Z",
          "shell.execute_reply": "2023-12-14T13:31:52.643596Z"
        },
        "trusted": true,
        "id": "OqZibVEeaqPl"
      },
      "execution_count": null,
      "outputs": []
    },
    {
      "cell_type": "code",
      "source": [
        "df.info()"
      ],
      "metadata": {
        "execution": {
          "iopub.status.busy": "2023-12-14T13:31:52.646067Z",
          "iopub.execute_input": "2023-12-14T13:31:52.646416Z",
          "iopub.status.idle": "2023-12-14T13:31:52.678417Z",
          "shell.execute_reply.started": "2023-12-14T13:31:52.646373Z",
          "shell.execute_reply": "2023-12-14T13:31:52.677502Z"
        },
        "trusted": true,
        "id": "7Sphz82naqPl"
      },
      "execution_count": null,
      "outputs": []
    },
    {
      "cell_type": "code",
      "source": [
        "sns.pairplot(df)"
      ],
      "metadata": {
        "execution": {
          "iopub.status.busy": "2023-12-14T13:31:52.680903Z",
          "iopub.execute_input": "2023-12-14T13:31:52.681494Z",
          "iopub.status.idle": "2023-12-14T13:32:05.331049Z",
          "shell.execute_reply.started": "2023-12-14T13:31:52.681459Z",
          "shell.execute_reply": "2023-12-14T13:32:05.329481Z"
        },
        "trusted": true,
        "id": "svc1PglKaqPl"
      },
      "execution_count": null,
      "outputs": []
    },
    {
      "cell_type": "code",
      "source": [
        "#Plotting the distribution of target column(which is 'Price')\n",
        "sns.distplot(df['Price'])"
      ],
      "metadata": {
        "execution": {
          "iopub.status.busy": "2023-12-14T13:32:05.332449Z",
          "iopub.execute_input": "2023-12-14T13:32:05.332845Z",
          "iopub.status.idle": "2023-12-14T13:32:05.918718Z",
          "shell.execute_reply.started": "2023-12-14T13:32:05.332812Z",
          "shell.execute_reply": "2023-12-14T13:32:05.917417Z"
        },
        "trusted": true,
        "id": "ZmjVq2bvaqPl"
      },
      "execution_count": null,
      "outputs": []
    },
    {
      "cell_type": "code",
      "source": [
        "df.columns"
      ],
      "metadata": {
        "execution": {
          "iopub.status.busy": "2023-12-14T13:33:27.156546Z",
          "iopub.execute_input": "2023-12-14T13:33:27.157186Z",
          "iopub.status.idle": "2023-12-14T13:33:27.167446Z",
          "shell.execute_reply.started": "2023-12-14T13:33:27.157131Z",
          "shell.execute_reply": "2023-12-14T13:33:27.166209Z"
        },
        "trusted": true,
        "id": "Aho0uuisaqPl"
      },
      "execution_count": null,
      "outputs": []
    },
    {
      "cell_type": "code",
      "source": [
        "X=df.drop(['Price','Address'], axis=1)"
      ],
      "metadata": {
        "execution": {
          "iopub.status.busy": "2023-12-14T13:33:35.440856Z",
          "iopub.execute_input": "2023-12-14T13:33:35.441279Z",
          "iopub.status.idle": "2023-12-14T13:33:35.448129Z",
          "shell.execute_reply.started": "2023-12-14T13:33:35.44125Z",
          "shell.execute_reply": "2023-12-14T13:33:35.446679Z"
        },
        "trusted": true,
        "id": "w8OW9lNuaqPl"
      },
      "execution_count": null,
      "outputs": []
    },
    {
      "cell_type": "code",
      "source": [
        "#Teaget variable\n",
        "y=df['Price']"
      ],
      "metadata": {
        "execution": {
          "iopub.status.busy": "2023-12-14T13:33:39.274809Z",
          "iopub.execute_input": "2023-12-14T13:33:39.275242Z",
          "iopub.status.idle": "2023-12-14T13:33:39.280996Z",
          "shell.execute_reply.started": "2023-12-14T13:33:39.275211Z",
          "shell.execute_reply": "2023-12-14T13:33:39.279684Z"
        },
        "trusted": true,
        "id": "jgikT_uHaqPl"
      },
      "execution_count": null,
      "outputs": []
    },
    {
      "cell_type": "code",
      "source": [
        "from sklearn.model_selection import train_test_split"
      ],
      "metadata": {
        "execution": {
          "iopub.status.busy": "2023-12-14T13:33:42.467454Z",
          "iopub.execute_input": "2023-12-14T13:33:42.467919Z",
          "iopub.status.idle": "2023-12-14T13:33:42.70896Z",
          "shell.execute_reply.started": "2023-12-14T13:33:42.467881Z",
          "shell.execute_reply": "2023-12-14T13:33:42.707735Z"
        },
        "trusted": true,
        "id": "ao6R3kwdaqPm"
      },
      "execution_count": null,
      "outputs": []
    },
    {
      "cell_type": "code",
      "source": [
        "#Splitting the data in training and testing dataset\n",
        "X_test,X_train,y_train,y_test = train_test_split(X,y,test_size=0.5,random_state = 42)"
      ],
      "metadata": {
        "execution": {
          "iopub.status.busy": "2023-12-14T13:33:51.879605Z",
          "iopub.execute_input": "2023-12-14T13:33:51.880051Z",
          "iopub.status.idle": "2023-12-14T13:33:51.889774Z",
          "shell.execute_reply.started": "2023-12-14T13:33:51.88002Z",
          "shell.execute_reply": "2023-12-14T13:33:51.888806Z"
        },
        "trusted": true,
        "id": "nNPR3OJ8aqPm"
      },
      "execution_count": null,
      "outputs": []
    },
    {
      "cell_type": "code",
      "source": [
        "from sklearn.linear_model import LinearRegression"
      ],
      "metadata": {
        "execution": {
          "iopub.status.busy": "2023-12-14T13:33:58.137598Z",
          "iopub.execute_input": "2023-12-14T13:33:58.138089Z",
          "iopub.status.idle": "2023-12-14T13:33:58.260704Z",
          "shell.execute_reply.started": "2023-12-14T13:33:58.138051Z",
          "shell.execute_reply": "2023-12-14T13:33:58.259647Z"
        },
        "trusted": true,
        "id": "IeJ_CuF6aqPm"
      },
      "execution_count": null,
      "outputs": []
    },
    {
      "cell_type": "code",
      "source": [
        "lr = LinearRegression()"
      ],
      "metadata": {
        "execution": {
          "iopub.status.busy": "2023-12-14T13:34:01.478853Z",
          "iopub.execute_input": "2023-12-14T13:34:01.479279Z",
          "iopub.status.idle": "2023-12-14T13:34:01.483828Z",
          "shell.execute_reply.started": "2023-12-14T13:34:01.479248Z",
          "shell.execute_reply": "2023-12-14T13:34:01.48277Z"
        },
        "trusted": true,
        "id": "bg0ISBBIaqPm"
      },
      "execution_count": null,
      "outputs": []
    },
    {
      "cell_type": "code",
      "source": [
        "lr.fit(X_train,y_train)"
      ],
      "metadata": {
        "execution": {
          "iopub.status.busy": "2023-12-14T13:34:02.931633Z",
          "iopub.execute_input": "2023-12-14T13:34:02.932944Z",
          "iopub.status.idle": "2023-12-14T13:34:02.962551Z",
          "shell.execute_reply.started": "2023-12-14T13:34:02.932867Z",
          "shell.execute_reply": "2023-12-14T13:34:02.961362Z"
        },
        "trusted": true,
        "id": "Fk5ciAW4aqPm"
      },
      "execution_count": null,
      "outputs": []
    },
    {
      "cell_type": "code",
      "source": [
        "print(lr.intercept_)"
      ],
      "metadata": {
        "execution": {
          "iopub.status.busy": "2023-12-14T13:34:05.292553Z",
          "iopub.execute_input": "2023-12-14T13:34:05.29367Z",
          "iopub.status.idle": "2023-12-14T13:34:05.299048Z",
          "shell.execute_reply.started": "2023-12-14T13:34:05.293625Z",
          "shell.execute_reply": "2023-12-14T13:34:05.297758Z"
        },
        "trusted": true,
        "id": "jbkVBGP4aqPm"
      },
      "execution_count": null,
      "outputs": []
    },
    {
      "cell_type": "code",
      "source": [
        "lr.coef_"
      ],
      "metadata": {
        "execution": {
          "iopub.status.busy": "2023-12-14T13:34:12.047254Z",
          "iopub.execute_input": "2023-12-14T13:34:12.047716Z",
          "iopub.status.idle": "2023-12-14T13:34:12.055554Z",
          "shell.execute_reply.started": "2023-12-14T13:34:12.047677Z",
          "shell.execute_reply": "2023-12-14T13:34:12.054372Z"
        },
        "trusted": true,
        "id": "zLcM0YakaqPm"
      },
      "execution_count": null,
      "outputs": []
    },
    {
      "cell_type": "code",
      "source": [
        "cdf = pd.DataFrame(lr.coef_,X.columns,columns=['Coeff'])"
      ],
      "metadata": {
        "execution": {
          "iopub.status.busy": "2023-12-14T13:34:14.074478Z",
          "iopub.execute_input": "2023-12-14T13:34:14.074916Z",
          "iopub.status.idle": "2023-12-14T13:34:14.081259Z",
          "shell.execute_reply.started": "2023-12-14T13:34:14.074874Z",
          "shell.execute_reply": "2023-12-14T13:34:14.079764Z"
        },
        "trusted": true,
        "id": "bdDRemBWaqPm"
      },
      "execution_count": null,
      "outputs": []
    },
    {
      "cell_type": "code",
      "source": [
        "cdf"
      ],
      "metadata": {
        "execution": {
          "iopub.status.busy": "2023-12-14T13:34:19.486816Z",
          "iopub.execute_input": "2023-12-14T13:34:19.48744Z",
          "iopub.status.idle": "2023-12-14T13:34:19.501673Z",
          "shell.execute_reply.started": "2023-12-14T13:34:19.487353Z",
          "shell.execute_reply": "2023-12-14T13:34:19.500191Z"
        },
        "trusted": true,
        "id": "b8wmjCviaqPm"
      },
      "execution_count": null,
      "outputs": []
    },
    {
      "cell_type": "code",
      "source": [
        "#The output may not make sense as the dataset is artificially collected"
      ],
      "metadata": {
        "execution": {
          "iopub.status.busy": "2023-12-14T13:32:07.223968Z",
          "iopub.status.idle": "2023-12-14T13:32:07.224345Z",
          "shell.execute_reply.started": "2023-12-14T13:32:07.224168Z",
          "shell.execute_reply": "2023-12-14T13:32:07.224185Z"
        },
        "trusted": true,
        "id": "yzoog28maqPm"
      },
      "execution_count": null,
      "outputs": []
    },
    {
      "cell_type": "code",
      "source": [
        "#predicting on the unseen dataset(Test dataset)\n",
        "predict = lr.predict(X_test)\n",
        "#Predicted prices of the house\n",
        "predict"
      ],
      "metadata": {
        "execution": {
          "iopub.status.busy": "2023-12-14T13:34:25.414234Z",
          "iopub.execute_input": "2023-12-14T13:34:25.414742Z",
          "iopub.status.idle": "2023-12-14T13:34:25.429818Z",
          "shell.execute_reply.started": "2023-12-14T13:34:25.414701Z",
          "shell.execute_reply": "2023-12-14T13:34:25.427602Z"
        },
        "trusted": true,
        "id": "5n6wk-h-aqPm"
      },
      "execution_count": null,
      "outputs": []
    },
    {
      "cell_type": "code",
      "source": [
        "plt.scatter(y_test,predict)"
      ],
      "metadata": {
        "execution": {
          "iopub.status.busy": "2023-12-14T13:34:27.188052Z",
          "iopub.execute_input": "2023-12-14T13:34:27.188586Z",
          "iopub.status.idle": "2023-12-14T13:34:27.491214Z",
          "shell.execute_reply.started": "2023-12-14T13:34:27.188548Z",
          "shell.execute_reply": "2023-12-14T13:34:27.489761Z"
        },
        "trusted": true,
        "id": "g_CgjrsJaqPm"
      },
      "execution_count": null,
      "outputs": []
    },
    {
      "cell_type": "code",
      "source": [
        "#Evaluation of model performance\n",
        "from sklearn.metrics import mean_absolute_error,mean_squared_error"
      ],
      "metadata": {
        "execution": {
          "iopub.status.busy": "2023-12-14T13:34:30.301035Z",
          "iopub.execute_input": "2023-12-14T13:34:30.301479Z",
          "iopub.status.idle": "2023-12-14T13:34:30.306775Z",
          "shell.execute_reply.started": "2023-12-14T13:34:30.301443Z",
          "shell.execute_reply": "2023-12-14T13:34:30.30561Z"
        },
        "trusted": true,
        "id": "D-BKyj_daqPm"
      },
      "execution_count": null,
      "outputs": []
    },
    {
      "cell_type": "code",
      "source": [
        "mean_absolute_error(y_test,predict)"
      ],
      "metadata": {
        "execution": {
          "iopub.status.busy": "2023-12-14T13:34:34.701528Z",
          "iopub.execute_input": "2023-12-14T13:34:34.701989Z",
          "iopub.status.idle": "2023-12-14T13:34:34.71072Z",
          "shell.execute_reply.started": "2023-12-14T13:34:34.701951Z",
          "shell.execute_reply": "2023-12-14T13:34:34.709501Z"
        },
        "trusted": true,
        "id": "RDA2YGoCaqPn"
      },
      "execution_count": null,
      "outputs": []
    },
    {
      "cell_type": "code",
      "source": [
        "mean_squared_error(y_test,predict)"
      ],
      "metadata": {
        "execution": {
          "iopub.status.busy": "2023-12-14T13:34:38.966143Z",
          "iopub.execute_input": "2023-12-14T13:34:38.96659Z",
          "iopub.status.idle": "2023-12-14T13:34:38.975252Z",
          "shell.execute_reply.started": "2023-12-14T13:34:38.966557Z",
          "shell.execute_reply": "2023-12-14T13:34:38.973835Z"
        },
        "trusted": true,
        "id": "HaPB5gu5aqPn"
      },
      "execution_count": null,
      "outputs": []
    },
    {
      "cell_type": "code",
      "source": [],
      "metadata": {
        "id": "JCIsRAHraqPn"
      },
      "execution_count": null,
      "outputs": []
    },
    {
      "cell_type": "code",
      "source": [],
      "metadata": {
        "id": "7GkNVNDBaqPn"
      },
      "execution_count": null,
      "outputs": []
    },
    {
      "cell_type": "code",
      "source": [],
      "metadata": {
        "id": "SggUj0uFaqPn"
      },
      "execution_count": null,
      "outputs": []
    },
    {
      "cell_type": "code",
      "source": [],
      "metadata": {
        "id": "_o9xjP0DaqPn"
      },
      "execution_count": null,
      "outputs": []
    }
  ]
}